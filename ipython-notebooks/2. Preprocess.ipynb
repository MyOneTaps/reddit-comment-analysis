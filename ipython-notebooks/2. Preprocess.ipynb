{
 "cells": [
  {
   "cell_type": "code",
   "execution_count": 67,
   "metadata": {},
   "outputs": [],
   "source": [
    "import re\n",
    "import json\n",
    "from pathlib import Path\n",
    "import datetime as dt\n",
    "\n",
    "import pandas as pd\n",
    "import tldextract"
   ]
  },
  {
   "cell_type": "code",
   "execution_count": 53,
   "metadata": {},
   "outputs": [],
   "source": [
    "# Config params\n",
    "\n",
    "# Directory where all data will be stored\n",
    "DATA = Path('../../reddit/data/')\n",
    "\n",
    "# Subreddits to get comments/posts from \n",
    "subreddits = ['Conservative','Democrats','Liberal','Politics','The_Donald']\n",
    "\n",
    "# Candidate comments\n",
    "candidates = {\n",
    "    'JoeBiden': ['joe', 'biden'],\n",
    "    'ElizabethWarren': ['elizabeth', 'warren'],\n",
    "    'BernieSanders': ['bernie', 'sanders'],\n",
    "    'DonaldTrump': ['donald', 'trump']\n",
    "}\n",
    "\n",
    "# Filtering thresholds\n",
    "score_cutoff = 100\n",
    "min_len = 10"
   ]
  },
  {
   "cell_type": "markdown",
   "metadata": {},
   "source": [
    "### 1. Posts"
   ]
  },
  {
   "cell_type": "markdown",
   "metadata": {},
   "source": [
    "#### Consolidate posts from all subreddits"
   ]
  },
  {
   "cell_type": "code",
   "execution_count": 83,
   "metadata": {},
   "outputs": [
    {
     "name": "stdout",
     "output_type": "stream",
     "text": [
      "CPU times: user 1min 8s, sys: 3.31 s, total: 1min 12s\n",
      "Wall time: 56.3 s\n"
     ]
    }
   ],
   "source": [
    "%%time\n",
    "\n",
    "cols_reqd = ['id', 'author', 'subreddit', 'created_utc', 'full_link', 'score', 'title', 'url',\n",
    "             'subreddit_subscribers']\n",
    "allposts = list()\n",
    "\n",
    "for subreddit in subreddits:\n",
    "    posts = pd.read_csv(DATA/f'posts/raw/{subreddit}.tsv', sep='\\t', encoding='utf-8')\n",
    "    \n",
    "    # Remove redudant columns\n",
    "    posts = posts[cols_reqd]\n",
    "\n",
    "    # Apply filtering conditions\n",
    "    posts = posts.loc[posts.score > score_cutoff]\n",
    "\n",
    "    posts['length'] = posts['title'].fillna('').astype(str).apply(len)\n",
    "    posts = posts.loc[posts.length > min_len]\n",
    "    \n",
    "    allposts.append(posts)\n",
    "    \n",
    "allposts = pd.concat(allposts).reset_index(drop=True)"
   ]
  },
  {
   "cell_type": "markdown",
   "metadata": {},
   "source": [
    "#### Preprocess post titles."
   ]
  },
  {
   "cell_type": "code",
   "execution_count": 84,
   "metadata": {},
   "outputs": [],
   "source": [
    "def remove_URL(text):\n",
    "    text = re.sub('((www\\.[^\\s]+)|(https?://[^\\s]+))', ' ', text)\n",
    "    return text\n",
    "\n",
    "def remove_numbers(text):\n",
    "    text = re.sub('\\d', ' ', text)\n",
    "    return text\n",
    "    \n",
    "def preprocess_post(post):\n",
    "    for fn in [remove_URL, remove_numbers]:\n",
    "        post = fn(post)\n",
    "\n",
    "    return post"
   ]
  },
  {
   "cell_type": "code",
   "execution_count": 85,
   "metadata": {
    "scrolled": true
   },
   "outputs": [
    {
     "name": "stdout",
     "output_type": "stream",
     "text": [
      "CPU times: user 12 s, sys: 0 ns, total: 12 s\n",
      "Wall time: 12 s\n"
     ]
    }
   ],
   "source": [
    "%%time\n",
    "\n",
    "# Clean text\n",
    "allposts['title'] = allposts['title'].map(lambda s: preprocess_post(s))"
   ]
  },
  {
   "cell_type": "markdown",
   "metadata": {},
   "source": [
    "#### Extract domain from URL"
   ]
  },
  {
   "cell_type": "code",
   "execution_count": 86,
   "metadata": {},
   "outputs": [
    {
     "name": "stdout",
     "output_type": "stream",
     "text": [
      "CPU times: user 11.1 s, sys: 0 ns, total: 11.1 s\n",
      "Wall time: 11.1 s\n"
     ]
    }
   ],
   "source": [
    "%%time\n",
    "\n",
    "allposts['domain'] = allposts['url'].map(lambda s: tldextract.extract(s).domain)"
   ]
  },
  {
   "cell_type": "code",
   "execution_count": 95,
   "metadata": {},
   "outputs": [],
   "source": [
    "allposts.to_csv(DATA/'posts/processed/filtered_posts.tsv', sep='\\t', encoding='utf-8', index=None)"
   ]
  },
  {
   "cell_type": "markdown",
   "metadata": {},
   "source": [
    "### 2. Comments"
   ]
  },
  {
   "cell_type": "code",
   "execution_count": null,
   "metadata": {},
   "outputs": [],
   "source": []
  }
 ],
 "metadata": {
  "kernelspec": {
   "display_name": "Python 3",
   "language": "python",
   "name": "python3"
  },
  "language_info": {
   "codemirror_mode": {
    "name": "ipython",
    "version": 3
   },
   "file_extension": ".py",
   "mimetype": "text/x-python",
   "name": "python",
   "nbconvert_exporter": "python",
   "pygments_lexer": "ipython3",
   "version": "3.7.5"
  }
 },
 "nbformat": 4,
 "nbformat_minor": 2
}
